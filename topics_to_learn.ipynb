{
 "cells": [
  {
   "metadata": {},
   "cell_type": "markdown",
   "source": [
    "# Scipy Sparse Matrix\n",
    "\n",
    "A matrix is sparse if many of its coefficients are zero. The interest in sparsity arises because its exploitation can lead to enormous computational savings and because many large matrix problems that occur in practice are sparse."
   ],
   "id": "bff6235513c08514"
  },
  {
   "metadata": {
    "ExecuteTime": {
     "end_time": "2024-04-23T19:58:43.762800Z",
     "start_time": "2024-04-23T19:58:43.755417Z"
    }
   },
   "cell_type": "code",
   "source": [
    "# dense to sparse\n",
    "from numpy import array\n",
    "from scipy.sparse import csr_matrix\n",
    "# create dense matrix\n",
    "A = array([[1, 0, 0, 1, 0, 0], [0, 0, 2, 0, 0, 1], [0, 0, 0, 2, 0, 0]])\n",
    "print(A)"
   ],
   "id": "2beb8e74cd222663",
   "outputs": [
    {
     "name": "stdout",
     "output_type": "stream",
     "text": [
      "[[1 0 0 1 0 0]\n",
      " [0 0 2 0 0 1]\n",
      " [0 0 0 2 0 0]]\n"
     ]
    }
   ],
   "execution_count": 3
  },
  {
   "metadata": {
    "ExecuteTime": {
     "end_time": "2024-04-23T20:01:47.797529Z",
     "start_time": "2024-04-23T20:01:47.788101Z"
    }
   },
   "cell_type": "code",
   "source": [
    "# convert to sparse matrix (CSR method)\n",
    "S = csr_matrix(A)\n",
    "print(S)"
   ],
   "id": "429e02f2d2699f04",
   "outputs": [
    {
     "name": "stdout",
     "output_type": "stream",
     "text": [
      "  (0, 0)\t1\n",
      "  (0, 3)\t1\n",
      "  (1, 2)\t2\n",
      "  (1, 5)\t1\n",
      "  (2, 3)\t2\n"
     ]
    }
   ],
   "execution_count": 4
  },
  {
   "metadata": {
    "ExecuteTime": {
     "end_time": "2024-04-23T20:02:18.768991Z",
     "start_time": "2024-04-23T20:02:18.762861Z"
    }
   },
   "cell_type": "code",
   "source": [
    "# reconstruct dense matrix\n",
    "B = S.todense()\n",
    "print(B)"
   ],
   "id": "e9ec7dee270a00d3",
   "outputs": [
    {
     "name": "stdout",
     "output_type": "stream",
     "text": [
      "[[1 0 0 1 0 0]\n",
      " [0 0 2 0 0 1]\n",
      " [0 0 0 2 0 0]]\n"
     ]
    }
   ],
   "execution_count": 5
  },
  {
   "metadata": {},
   "cell_type": "markdown",
   "source": [
    "NumPy does not provide a function to calculate the sparsity of a matrix.\n",
    "\n",
    "Nevertheless, we can calculate it easily by first finding the density of the matrix and subtracting it from one. The number of non-zero elements in a NumPy array can be given by the `count_nonzero()` function and the total number of elements in the array can be given by the size property of the array. Array sparsity can therefore be calculated as\n",
    "\n",
    "`sparsity = 1.0 - count_nonzero(A) / A.size`"
   ],
   "id": "6350a3d906b23bef"
  },
  {
   "metadata": {
    "ExecuteTime": {
     "end_time": "2024-04-23T20:07:03.454218Z",
     "start_time": "2024-04-23T20:07:03.447533Z"
    }
   },
   "cell_type": "code",
   "source": [
    "# calculate sparsity\n",
    "from numpy import array\n",
    "from numpy import count_nonzero\n",
    "# create dense matrix\n",
    "A = array([[1, 0, 0, 1, 0, 0], [0, 0, 2, 0, 0, 1], [0, 0, 0, 2, 0, 0]])\n",
    "print(A)"
   ],
   "id": "e5e9bdb8577274f3",
   "outputs": [
    {
     "name": "stdout",
     "output_type": "stream",
     "text": [
      "[[1 0 0 1 0 0]\n",
      " [0 0 2 0 0 1]\n",
      " [0 0 0 2 0 0]]\n"
     ]
    }
   ],
   "execution_count": 6
  },
  {
   "metadata": {
    "ExecuteTime": {
     "end_time": "2024-04-23T20:07:09.841802Z",
     "start_time": "2024-04-23T20:07:09.830613Z"
    }
   },
   "cell_type": "code",
   "source": "A.size",
   "id": "bab88dde6f0d8ae",
   "outputs": [
    {
     "data": {
      "text/plain": [
       "18"
      ]
     },
     "execution_count": 7,
     "metadata": {},
     "output_type": "execute_result"
    }
   ],
   "execution_count": 7
  },
  {
   "metadata": {
    "ExecuteTime": {
     "end_time": "2024-04-23T20:07:32.224600Z",
     "start_time": "2024-04-23T20:07:32.218107Z"
    }
   },
   "cell_type": "code",
   "source": "count_nonzero(A)",
   "id": "56e8ea1ecc1a9e4a",
   "outputs": [
    {
     "data": {
      "text/plain": [
       "5"
      ]
     },
     "execution_count": 8,
     "metadata": {},
     "output_type": "execute_result"
    }
   ],
   "execution_count": 8
  },
  {
   "metadata": {
    "ExecuteTime": {
     "end_time": "2024-04-23T20:07:43.399251Z",
     "start_time": "2024-04-23T20:07:43.394420Z"
    }
   },
   "cell_type": "code",
   "source": [
    "# calculate sparsity\n",
    "sparsity = 1.0 - count_nonzero(A) / A.size\n",
    "print(sparsity)"
   ],
   "id": "4b4cd9c97bf3aa0d",
   "outputs": [
    {
     "name": "stdout",
     "output_type": "stream",
     "text": [
      "0.7222222222222222\n"
     ]
    }
   ],
   "execution_count": 9
  },
  {
   "metadata": {
    "ExecuteTime": {
     "end_time": "2024-12-30T23:05:44.657249Z",
     "start_time": "2024-12-30T23:05:44.402244Z"
    }
   },
   "cell_type": "code",
   "source": [
    "# w3school\n",
    "import numpy as np\n",
    "from scipy.sparse import csr_matrix # Compressed Sparse Row\n",
    "\n",
    "arr = np.array([0, 0, 0, 0, 0, 1, 1, 0, 2])\n",
    "\n",
    "print(csr_matrix(arr))"
   ],
   "id": "a89dd957988ce830",
   "outputs": [
    {
     "name": "stdout",
     "output_type": "stream",
     "text": [
      "  (0, 5)\t1\n",
      "  (0, 6)\t1\n",
      "  (0, 8)\t2\n"
     ]
    }
   ],
   "execution_count": 2
  },
  {
   "metadata": {
    "ExecuteTime": {
     "end_time": "2024-12-31T01:13:25.083834Z",
     "start_time": "2024-12-31T01:13:25.071492Z"
    }
   },
   "cell_type": "code",
   "source": [
    "sparr = csr_matrix(arr)\n",
    "type(sparr)"
   ],
   "id": "8faba12c2d3640db",
   "outputs": [
    {
     "data": {
      "text/plain": [
       "scipy.sparse._csr.csr_matrix"
      ]
     },
     "execution_count": 12,
     "metadata": {},
     "output_type": "execute_result"
    }
   ],
   "execution_count": 12
  },
  {
   "metadata": {
    "ExecuteTime": {
     "end_time": "2024-12-31T01:13:38.595403Z",
     "start_time": "2024-12-31T01:13:38.591273Z"
    }
   },
   "cell_type": "code",
   "source": "sparr.get_shape()",
   "id": "992cc22e6d168132",
   "outputs": [
    {
     "data": {
      "text/plain": [
       "(1, 9)"
      ]
     },
     "execution_count": 13,
     "metadata": {},
     "output_type": "execute_result"
    }
   ],
   "execution_count": 13
  },
  {
   "metadata": {
    "ExecuteTime": {
     "end_time": "2024-12-31T01:15:38.668947Z",
     "start_time": "2024-12-31T01:15:38.663047Z"
    }
   },
   "cell_type": "code",
   "source": "sparr[0,8]",
   "id": "5790efeeffff152e",
   "outputs": [
    {
     "data": {
      "text/plain": [
       "2"
      ]
     },
     "execution_count": 18,
     "metadata": {},
     "output_type": "execute_result"
    }
   ],
   "execution_count": 18
  },
  {
   "metadata": {},
   "cell_type": "markdown",
   "source": [
    "## ChatGPTs Primer on Working with SciPy Sparse Matrices\n",
    "\n",
    "Below is a primer on working with SciPy sparse matrices (and the newer sparse arrays) with a focus on slicing, extracting values, and general tips for usage. We’ll cover:\n",
    "\n",
    "## 1. Overview of SciPy Sparse Matrices\n",
    "\n",
    "For large, mostly-empty 2D data, **sparse matrices** are a memory-efficient alternative to NumPy dense arrays. Instead of storing every single element, sparse matrices store **only the nonzero entries** along with their positions. This makes computations on large matrices with few nonzero entries more feasible.\n",
    "\n",
    "The primary sparse matrix library in Python is in `scipy.sparse`. Since SciPy 1.8+, there is also a concept of **“sparse arrays”**, which extends some functionality to n-dimensional arrays, though in practice most operations remain 2D-oriented.\n",
    "\n",
    "## 2. Common Sparse Formats\n",
    "\n",
    "SciPy supports a variety of sparse formats, each optimized for different operations. The most common include:\n",
    "\n",
    "1. **CSR (Compressed Sparse Row**; `csr_matrix`):\n",
    "\n",
    "    - Stores row-wise slices of nonzero elements.\n",
    "    - Great for row slicing and efficient arithmetic (e.g., matrix-vector multiplies).\n",
    "\n",
    "2. **CSC (Compressed Sparse Column**; `csc_matrix`):\n",
    "\n",
    "    - Stores column-wise slices of nonzero elements.\n",
    "    - Great for column slicing and some advanced math operations.\n",
    "\n",
    "3. **COO (Coordinate**; `coo_matrix`):\n",
    "\n",
    "    - Stores a list of `(row, col, data)` tuples.\n",
    "    - Easiest to build incrementally but not optimal for arithmetic; often used for **construction** then converted to CSR/CSC.\n",
    "\n",
    "Other formats exist (e.g., **DOK, LIL**) but are less commonly used in production code, except for specialized tasks like incremental matrix building.\n",
    "\n",
    "## 3. Creating Sparse Matrices\n",
    "\n",
    "### 3.1 From Dense Arrays"
   ],
   "id": "d78752d6fc0f0da8"
  },
  {
   "metadata": {
    "ExecuteTime": {
     "end_time": "2024-12-31T10:18:16.002797Z",
     "start_time": "2024-12-31T10:18:15.596703Z"
    }
   },
   "cell_type": "code",
   "source": [
    "import numpy as np\n",
    "from scipy.sparse import csr_matrix\n",
    "\n",
    "# Suppose we have a dense NumPy array:\n",
    "dense = np.array([\n",
    "    [0, 0, 3],\n",
    "    [4, 0, 0],\n",
    "    [0, 5, 0],\n",
    "], dtype=float)\n",
    "\n",
    "# Convert to a CSR matrix:\n",
    "sparse_csr = csr_matrix(dense)\n",
    "print(sparse_csr)\n",
    "# Output (in CSR format):\n",
    "#   (0, 2)    3.0\n",
    "#   (1, 0)    4.0\n",
    "#   (2, 1)    5.0\n"
   ],
   "id": "8891c249b6d232dd",
   "outputs": [
    {
     "name": "stdout",
     "output_type": "stream",
     "text": [
      "  (0, 2)\t3.0\n",
      "  (1, 0)\t4.0\n",
      "  (2, 1)\t5.0\n"
     ]
    }
   ],
   "execution_count": 1
  },
  {
   "metadata": {},
   "cell_type": "markdown",
   "source": "### 3.2 Directly via Format Constructors",
   "id": "cfab4cbad461941a"
  },
  {
   "metadata": {
    "ExecuteTime": {
     "end_time": "2024-12-31T10:28:13.097480Z",
     "start_time": "2024-12-31T10:28:13.085266Z"
    }
   },
   "cell_type": "code",
   "source": [
    "from scipy.sparse import coo_matrix\n",
    "\n",
    "rows = np.array([0, 1, 2])\n",
    "cols = np.array([2, 0, 1])\n",
    "data = np.array([3.0, 4.0, 5.0])\n",
    "\n",
    "# Construct directly in COO format:\n",
    "sparse_coo = coo_matrix((data, (rows, cols)), shape=(3,3))\n",
    "sparse_coo"
   ],
   "id": "1eaa11fb2adac6b0",
   "outputs": [
    {
     "data": {
      "text/plain": [
       "<3x3 sparse matrix of type '<class 'numpy.float64'>'\n",
       "\twith 3 stored elements in COOrdinate format>"
      ]
     },
     "execution_count": 2,
     "metadata": {},
     "output_type": "execute_result"
    }
   ],
   "execution_count": 2
  },
  {
   "metadata": {
    "ExecuteTime": {
     "end_time": "2024-12-31T10:29:16.446938Z",
     "start_time": "2024-12-31T10:29:16.439527Z"
    }
   },
   "cell_type": "code",
   "source": "sparse_coo.toarray()",
   "id": "fb9ab755d19b237b",
   "outputs": [
    {
     "data": {
      "text/plain": [
       "array([[0., 0., 3.],\n",
       "       [4., 0., 0.],\n",
       "       [0., 5., 0.]])"
      ]
     },
     "execution_count": 3,
     "metadata": {},
     "output_type": "execute_result"
    }
   ],
   "execution_count": 3
  },
  {
   "metadata": {
    "ExecuteTime": {
     "end_time": "2024-12-31T10:29:49.575846Z",
     "start_time": "2024-12-31T10:29:49.557845Z"
    }
   },
   "cell_type": "code",
   "source": "sparse_coo.tocsr()",
   "id": "de216f85cc6de411",
   "outputs": [
    {
     "data": {
      "text/plain": [
       "<3x3 sparse matrix of type '<class 'numpy.float64'>'\n",
       "\twith 3 stored elements in Compressed Sparse Row format>"
      ]
     },
     "execution_count": 4,
     "metadata": {},
     "output_type": "execute_result"
    }
   ],
   "execution_count": 4
  },
  {
   "metadata": {
    "ExecuteTime": {
     "end_time": "2024-12-31T10:30:29.244492Z",
     "start_time": "2024-12-31T10:30:29.238479Z"
    }
   },
   "cell_type": "code",
   "source": "print(sparse_coo.tocsr())",
   "id": "38ff8cc5dbdbff98",
   "outputs": [
    {
     "name": "stdout",
     "output_type": "stream",
     "text": [
      "  (0, 2)\t3.0\n",
      "  (1, 0)\t4.0\n",
      "  (2, 1)\t5.0\n"
     ]
    }
   ],
   "execution_count": 5
  },
  {
   "metadata": {},
   "cell_type": "markdown",
   "source": "### 3.3 Converting Between Formats",
   "id": "9bf502339dc341f6"
  },
  {
   "metadata": {},
   "cell_type": "code",
   "outputs": [],
   "execution_count": null,
   "source": [
    "sparse_csc = sparse_csr.tocsc()\n",
    "sparse_coo = sparse_csr.tocoo()\n",
    "# ... etc.\n"
   ],
   "id": "4821c03783462be5"
  },
  {
   "metadata": {},
   "cell_type": "markdown",
   "source": [
    "## 4. Basic Indexing and Slicing\n",
    "\n",
    "When dealing with **2D SciPy sparse matrices** (e.g., `csr_matrix`, `csc_matrix`), indexing works similarly to NumPy, but with some important differences regarding performance and returned types.\n",
    "\n",
    "### 4.1 Single Element Access"
   ],
   "id": "e603ace248a52819"
  },
  {
   "metadata": {
    "ExecuteTime": {
     "end_time": "2024-12-31T10:35:45.770869Z",
     "start_time": "2024-12-31T10:35:45.761279Z"
    }
   },
   "cell_type": "code",
   "source": [
    "M = csr_matrix([\n",
    "    [0, 2, 0],\n",
    "    [4, 0, 6],\n",
    "    [0, 8, 0],\n",
    "], dtype=float)\n",
    "\n",
    "val = M[1, 2]  # Access element at row=1, col=2 (zero-based)\n",
    "print(val)     # 6.0\n"
   ],
   "id": "bcaf9489b4690728",
   "outputs": [
    {
     "name": "stdout",
     "output_type": "stream",
     "text": [
      "6.0\n"
     ]
    }
   ],
   "execution_count": 6
  },
  {
   "metadata": {
    "ExecuteTime": {
     "end_time": "2024-12-31T10:37:08.603972Z",
     "start_time": "2024-12-31T10:37:08.599819Z"
    }
   },
   "cell_type": "code",
   "source": "print(M)",
   "id": "4b74178c8c7fe3f3",
   "outputs": [
    {
     "name": "stdout",
     "output_type": "stream",
     "text": [
      "  (0, 1)\t2.0\n",
      "  (1, 0)\t4.0\n",
      "  (1, 2)\t6.0\n",
      "  (2, 1)\t8.0\n"
     ]
    }
   ],
   "execution_count": 8
  },
  {
   "metadata": {
    "ExecuteTime": {
     "end_time": "2024-12-31T10:38:00.515470Z",
     "start_time": "2024-12-31T10:38:00.509923Z"
    }
   },
   "cell_type": "code",
   "source": "type(val)",
   "id": "69804a100949a3a6",
   "outputs": [
    {
     "data": {
      "text/plain": [
       "numpy.float64"
      ]
     },
     "execution_count": 9,
     "metadata": {},
     "output_type": "execute_result"
    }
   ],
   "execution_count": 9
  },
  {
   "metadata": {},
   "cell_type": "markdown",
   "source": [
    "Access by `M[i, j]` returns a **scalar** (not a 1x1 sparse matrix in newer SciPy versions).\n",
    "\n",
    "**Caution**: Single-element access in sparse matrices can be expensive in some formats, since it may involve a search among the nonzero indices. If you need many random accesses, consider converting to CSR or CSC (depending on row/column access patterns), or even to a dense array if it fits in memory."
   ],
   "id": "9a271d71ce41fc41"
  },
  {
   "metadata": {},
   "cell_type": "markdown",
   "source": "### 4.2 Row Slicing and Column Slicing",
   "id": "2dd6aeaf3704d58c"
  },
  {
   "metadata": {
    "ExecuteTime": {
     "end_time": "2024-12-31T10:46:41.643029Z",
     "start_time": "2024-12-31T10:46:41.633298Z"
    }
   },
   "cell_type": "code",
   "source": [
    "# Row slicing: M[ start_row : end_row, : ]\n",
    "row_slice = M[0:2, :]  # rows 0 and 1, all columns\n",
    "print(\"Row Slice:\")\n",
    "print(row_slice)\n",
    "#   (0, 1)    2.0\n",
    "#   (1, 0)    4.0\n",
    "#   (1, 2)    6.0\n",
    "\n",
    "# Column slicing: M[:, start_col : end_col]\n",
    "col_slice = M[:, 1:3]  # all rows, columns 1 and 2\n",
    "print(\"Column Slice:\")\n",
    "print(col_slice)\n",
    "#   (0, 0)    2.0\n",
    "#   (1, 1)    6.0\n",
    "#   (2, 0)    8.0\n"
   ],
   "id": "c15e95ff5bad640a",
   "outputs": [
    {
     "name": "stdout",
     "output_type": "stream",
     "text": [
      "Row Slice:\n",
      "  (0, 1)\t2.0\n",
      "  (1, 0)\t4.0\n",
      "  (1, 2)\t6.0\n",
      "Column Slice:\n",
      "  (0, 0)\t2.0\n",
      "  (1, 1)\t6.0\n",
      "  (2, 0)\t8.0\n"
     ]
    }
   ],
   "execution_count": 13
  },
  {
   "metadata": {},
   "cell_type": "markdown",
   "source": "**Note**: The output of a slice will often maintain the same sparse format as the original (e.g., `csr_matrix` → `csr_matrix`), but behind the scenes, it may create a new sparse object referencing only the sliced region (pay attention to the indexing of the column slice above - it's re-indexed).",
   "id": "f5eda49279d3ff0f"
  },
  {
   "metadata": {
    "ExecuteTime": {
     "end_time": "2024-12-31T10:54:14.782968Z",
     "start_time": "2024-12-31T10:54:14.775663Z"
    }
   },
   "cell_type": "code",
   "source": "col_slice",
   "id": "d1ab52b1379752d5",
   "outputs": [
    {
     "data": {
      "text/plain": [
       "<3x2 sparse matrix of type '<class 'numpy.float64'>'\n",
       "\twith 3 stored elements in Compressed Sparse Row format>"
      ]
     },
     "execution_count": 14,
     "metadata": {},
     "output_type": "execute_result"
    }
   ],
   "execution_count": 14
  },
  {
   "metadata": {
    "ExecuteTime": {
     "end_time": "2024-12-31T10:54:37.418316Z",
     "start_time": "2024-12-31T10:54:37.412517Z"
    }
   },
   "cell_type": "code",
   "source": "M",
   "id": "6770e9029c9a01bd",
   "outputs": [
    {
     "data": {
      "text/plain": [
       "<3x3 sparse matrix of type '<class 'numpy.float64'>'\n",
       "\twith 4 stored elements in Compressed Sparse Row format>"
      ]
     },
     "execution_count": 15,
     "metadata": {},
     "output_type": "execute_result"
    }
   ],
   "execution_count": 15
  },
  {
   "metadata": {
    "ExecuteTime": {
     "end_time": "2024-12-31T10:54:49.252467Z",
     "start_time": "2024-12-31T10:54:49.246925Z"
    }
   },
   "cell_type": "code",
   "source": "row_slice",
   "id": "99b1c93cedfaa305",
   "outputs": [
    {
     "data": {
      "text/plain": [
       "<2x3 sparse matrix of type '<class 'numpy.float64'>'\n",
       "\twith 3 stored elements in Compressed Sparse Row format>"
      ]
     },
     "execution_count": 16,
     "metadata": {},
     "output_type": "execute_result"
    }
   ],
   "execution_count": 16
  },
  {
   "metadata": {},
   "cell_type": "markdown",
   "source": "### 4.3 Mixed Indexing",
   "id": "23ec566ede093c4b"
  },
  {
   "metadata": {
    "ExecuteTime": {
     "end_time": "2024-12-31T11:06:05.814315Z",
     "start_time": "2024-12-31T11:06:05.804855Z"
    }
   },
   "cell_type": "code",
   "source": [
    "# Range of rows, single column\n",
    "print(\"Original M:\")\n",
    "print(M)\n",
    "submatrix = M[0:3, 1]  # All rows, col=1\n",
    "# This typically returns a (3x1) sparse column submatrix\n",
    "print(\"M[0:3, 1]\")\n",
    "print(submatrix)\n",
    "#   (0, 0)  2.0\n",
    "#   (1, 0)  0.0\n",
    "#   (2, 0)  8.0\n",
    "\n",
    "# Range of rows, range of columns\n",
    "submatrix = M[0:2, 1:3]\n",
    "print(\"M[0:2, 1:3]\")\n",
    "print(submatrix)"
   ],
   "id": "f5ce9e94a234afe0",
   "outputs": [
    {
     "name": "stdout",
     "output_type": "stream",
     "text": [
      "Original M:\n",
      "  (0, 1)\t2.0\n",
      "  (1, 0)\t4.0\n",
      "  (1, 2)\t6.0\n",
      "  (2, 1)\t8.0\n",
      "M[0:3, 1]\n",
      "  (0, 0)\t2.0\n",
      "  (2, 0)\t8.0\n",
      "M[0:2, 1:3]\n",
      "  (0, 0)\t2.0\n",
      "  (1, 1)\t6.0\n"
     ]
    }
   ],
   "execution_count": 19
  },
  {
   "metadata": {},
   "cell_type": "markdown",
   "source": "### 4.4 Fancy Indexing (Arrays of Indices)",
   "id": "7d26764727250310"
  },
  {
   "metadata": {
    "ExecuteTime": {
     "end_time": "2024-12-31T13:38:59.453943Z",
     "start_time": "2024-12-31T13:38:59.445314Z"
    }
   },
   "cell_type": "code",
   "source": [
    "rows_idx = np.array([2, 0])  # reorder row indices\n",
    "cols_idx = np.array([1, 2])\n",
    "submatrix = M[rows_idx[:, None], cols_idx]  \n",
    "# shape will be (2, 2)\n",
    "\n",
    "print(\"Original M\")\n",
    "print(M)\n",
    "print(\"Submatrix:\")\n",
    "print(submatrix)\n",
    "#   (0, 0)    8.0  # From original M[2,1]\n",
    "#   (1, 1)    0.0  # From original M[0,2]\n"
   ],
   "id": "70942c9baab0037",
   "outputs": [
    {
     "name": "stdout",
     "output_type": "stream",
     "text": [
      "Original M\n",
      "  (0, 1)\t2.0\n",
      "  (1, 0)\t4.0\n",
      "  (1, 2)\t6.0\n",
      "  (2, 1)\t8.0\n",
      "Submatrix:\n",
      "  (0, 0)\t8.0\n",
      "  (1, 0)\t2.0\n"
     ]
    }
   ],
   "execution_count": 23
  },
  {
   "metadata": {
    "ExecuteTime": {
     "end_time": "2024-12-31T13:34:53.052594Z",
     "start_time": "2024-12-31T13:34:53.025854Z"
    }
   },
   "cell_type": "code",
   "source": "print(submatrix.toarray())",
   "id": "eda42ebec85b47f2",
   "outputs": [
    {
     "name": "stdout",
     "output_type": "stream",
     "text": [
      "[[8. 0.]\n",
      " [2. 0.]]\n"
     ]
    }
   ],
   "execution_count": 21
  },
  {
   "metadata": {},
   "cell_type": "markdown",
   "source": [
    "Be aware that “fancy” indexing can be significantly more expensive in sparse formats, as it often constructs a **COO** intermediate or does repeated lookups.\n",
    "\n",
    "## 5. Advanced Slicing (Efficiency Concerns)\n",
    "\n",
    "- **CSR** is well-suited for slicing entire rows or contiguous row ranges (`M[i:j, :]`) because data is stored row-wise.\n",
    "- **CSC** is well-suited for slicing entire columns or contiguous column ranges (`M[:, i:j]`) because data is stored column-wise.\n",
    "- If you need to slice irregular subsets of rows/columns or use a lot of fancy indexing, consider:\n",
    "    - Converting to a more convenient format (`.tocoo()` or `.todense()`) if memory permits.\n",
    "    - Using specialized indexing or iteration patterns (e.g., by iterating over `.nonzero()` or `.data`, `.indices`, `.indptr`).\n",
    "\n",
    "## 6. Inspecting Internal Representation\n",
    "\n",
    "### 6.1 CSR Internals\n",
    "\n",
    "For a **CSR** matrix `M`, the important attributes are:\n",
    "\n",
    "- `M.data`: The nonzero values (1D array).\n",
    "- `M.indices`: The column indices for each nonzero in `M.data`.\n",
    "- `M.indptr`: An array of length `n_rows+1`, where `M.indptr[i]` gives the start index in `M.data` for row i.\n",
    "\n",
    "Example:"
   ],
   "id": "9c356e95dcf34db5"
  },
  {
   "metadata": {},
   "cell_type": "code",
   "outputs": [],
   "execution_count": null,
   "source": [
    "M = csr_matrix([\n",
    "    [0, 2, 0],\n",
    "    [4, 0, 6],\n",
    "    [0, 8, 0],\n",
    "], dtype=float)\n",
    "\n",
    "print(M.data)      # [2. 4. 6. 8.]\n",
    "print(M.indices)   # [1 0 2 1]\n",
    "print(M.indptr)    # [0 1 3 4]\n",
    "\n",
    "# M.indptr = [0, 1, 3, 4]\n",
    "# Row 0's nonzeros are in M.data[0:1]  -> (col=1, val=2)\n",
    "# Row 1's nonzeros are in M.data[1:3]  -> (col=0, val=4), (col=2, val=6)\n",
    "# Row 2's nonzeros are in M.data[3:4]  -> (col=1, val=8)\n",
    "\n"
   ],
   "id": "ed8047012fbffff0"
  },
  {
   "metadata": {},
   "cell_type": "markdown",
   "source": [
    "### 6.2 COO Internals\n",
    "\n",
    "For a **COO** matrix `cooM`, the attributes are:\n",
    "\n",
    "- `cooM.row`: The row indices of each nonzero value.\n",
    "- `cooM.col`: The column indices of each nonzero value.\n",
    "- `cooM.data`: The nonzero values (1D).\n",
    "- \n",
    "COO is very handy for constructing a sparse matrix from scratch, but less efficient for repeated arithmetic or indexing.\n",
    "\n",
    "## 7. Converting Between Sparse and Dense\n",
    "\n",
    "### 7.1 To a Dense NumPy Array\n",
    "\n",
    "- `M.toarray()` returns a standard 2D NumPy array.\n",
    "- `M.A` is shorthand for M.toarray() (though sometimes discouraged for clarity reasons)."
   ],
   "id": "f039abe233a93f86"
  },
  {
   "metadata": {
    "ExecuteTime": {
     "end_time": "2024-12-31T19:28:32.523835Z",
     "start_time": "2024-12-31T19:28:32.465717Z"
    }
   },
   "cell_type": "code",
   "source": [
    "dense_again = M.toarray()\n",
    "print(dense_again)\n",
    "# [[0. 2. 0.]\n",
    "#  [4. 0. 6.]\n",
    "#  [0. 8. 0.]]\n"
   ],
   "id": "f53138ad1b176e6b",
   "outputs": [
    {
     "name": "stdout",
     "output_type": "stream",
     "text": [
      "[[0. 2. 0.]\n",
      " [4. 0. 6.]\n",
      " [0. 8. 0.]]\n"
     ]
    }
   ],
   "execution_count": 24
  },
  {
   "metadata": {},
   "cell_type": "markdown",
   "source": [
    "### 7.2 From a Dense NumPy Array\n",
    "\n",
    "Use the constructor methods or `scipy.sparse` helper functions:"
   ],
   "id": "1c6807499e1432f0"
  },
  {
   "metadata": {
    "ExecuteTime": {
     "end_time": "2024-12-31T19:57:51.028928Z",
     "start_time": "2024-12-31T19:57:51.009696Z"
    }
   },
   "cell_type": "code",
   "source": [
    "from scipy.sparse import coo_matrix, csc_matrix\n",
    "csr_matrix(dense_again)\n",
    "csc_matrix(dense_again)\n",
    "coo_matrix(dense_again)"
   ],
   "id": "11213c1229104114",
   "outputs": [
    {
     "data": {
      "text/plain": [
       "<3x3 sparse matrix of type '<class 'numpy.float64'>'\n",
       "\twith 4 stored elements in COOrdinate format>"
      ]
     },
     "execution_count": 26,
     "metadata": {},
     "output_type": "execute_result"
    }
   ],
   "execution_count": 26
  },
  {
   "metadata": {},
   "cell_type": "markdown",
   "source": "**Caution**: Converting large sparse matrices to dense can cause out-of-memory issues if the matrix is huge. Always estimate memory usage first.",
   "id": "9f9d90d7d36c1fa1"
  },
  {
   "metadata": {},
   "cell_type": "markdown",
   "source": "# Miscellaneous ",
   "id": "d47b555ec0a26195"
  },
  {
   "metadata": {},
   "cell_type": "code",
   "outputs": [],
   "execution_count": null,
   "source": [
    "from textblob import TextBlob\n",
    "\n",
    "text = \"The product is amazing and works great!\"\n",
    "analysis = TextBlob(text)\n",
    "print(analysis.sentiment)"
   ],
   "id": "730fecd1b9c3f71a"
  },
  {
   "metadata": {
    "ExecuteTime": {
     "end_time": "2024-12-27T14:21:23.351454Z",
     "start_time": "2024-12-27T14:21:22.558370Z"
    }
   },
   "cell_type": "code",
   "source": [
    "from sklearn.feature_extraction.text import CountVectorizer\n",
    "\n",
    "vectorizer = CountVectorizer()\n",
    "analyzer = vectorizer.build_analyzer()\n",
    "\n",
    "analyzer(\"This is a text document to analyze.\")"
   ],
   "id": "a5e9570f51620689",
   "outputs": [
    {
     "data": {
      "text/plain": [
       "['this', 'is', 'text', 'document', 'to', 'analyze']"
      ]
     },
     "execution_count": 1,
     "metadata": {},
     "output_type": "execute_result"
    }
   ],
   "execution_count": 1
  },
  {
   "metadata": {
    "ExecuteTime": {
     "end_time": "2024-12-27T15:11:49.361831Z",
     "start_time": "2024-12-27T15:11:49.318447Z"
    }
   },
   "cell_type": "code",
   "source": [
    "corpus = [\n",
    "    'This is the first document.',\n",
    "    'This is the second second document.',\n",
    "    'And the third one.',\n",
    "    'Is this the first document?',\n",
    "]\n",
    "\n",
    "X = vectorizer.fit_transform(corpus)\n",
    "X"
   ],
   "id": "3e83c7c28bebcaed",
   "outputs": [
    {
     "data": {
      "text/plain": [
       "<4x9 sparse matrix of type '<class 'numpy.int64'>'\n",
       "\twith 19 stored elements in Compressed Sparse Row format>"
      ]
     },
     "execution_count": 2,
     "metadata": {},
     "output_type": "execute_result"
    }
   ],
   "execution_count": 2
  },
  {
   "metadata": {
    "ExecuteTime": {
     "end_time": "2024-12-27T15:12:42.951499Z",
     "start_time": "2024-12-27T15:12:42.944352Z"
    }
   },
   "cell_type": "code",
   "source": "vectorizer.vocabulary_",
   "id": "d1b29e441f03c0e2",
   "outputs": [
    {
     "data": {
      "text/plain": [
       "{'this': 8,\n",
       " 'is': 3,\n",
       " 'the': 6,\n",
       " 'first': 2,\n",
       " 'document': 1,\n",
       " 'second': 5,\n",
       " 'and': 0,\n",
       " 'third': 7,\n",
       " 'one': 4}"
      ]
     },
     "execution_count": 3,
     "metadata": {},
     "output_type": "execute_result"
    }
   ],
   "execution_count": 3
  },
  {
   "metadata": {
    "ExecuteTime": {
     "end_time": "2024-12-27T15:13:00.262793Z",
     "start_time": "2024-12-27T15:13:00.244972Z"
    }
   },
   "cell_type": "code",
   "source": "vectorizer.get_feature_names_out()",
   "id": "bd928d29938d4b9b",
   "outputs": [
    {
     "data": {
      "text/plain": [
       "array(['and', 'document', 'first', 'is', 'one', 'second', 'the', 'third',\n",
       "       'this'], dtype=object)"
      ]
     },
     "execution_count": 4,
     "metadata": {},
     "output_type": "execute_result"
    }
   ],
   "execution_count": 4
  },
  {
   "metadata": {
    "ExecuteTime": {
     "end_time": "2024-12-27T15:13:59.294263Z",
     "start_time": "2024-12-27T15:13:59.079019Z"
    }
   },
   "cell_type": "code",
   "source": "X.rows()",
   "id": "ea35a7642e687f9c",
   "outputs": [
    {
     "ename": "AttributeError",
     "evalue": "'csr_matrix' object has no attribute 'rows'",
     "output_type": "error",
     "traceback": [
      "\u001B[0;31m---------------------------------------------------------------------------\u001B[0m",
      "\u001B[0;31mAttributeError\u001B[0m                            Traceback (most recent call last)",
      "Cell \u001B[0;32mIn[6], line 1\u001B[0m\n\u001B[0;32m----> 1\u001B[0m X\u001B[38;5;241m.\u001B[39mrows()\n",
      "\u001B[0;31mAttributeError\u001B[0m: 'csr_matrix' object has no attribute 'rows'"
     ]
    }
   ],
   "execution_count": 6
  },
  {
   "metadata": {
    "ExecuteTime": {
     "end_time": "2024-12-27T15:29:11.576651Z",
     "start_time": "2024-12-27T15:29:11.554103Z"
    }
   },
   "cell_type": "code",
   "source": [
    "from sklearn.feature_extraction.text import TfidfVectorizer\n",
    "\n",
    "vectorizer = TfidfVectorizer()\n",
    "X = vectorizer.fit_transform(corpus)\n",
    "X"
   ],
   "id": "59066a5cb02472c8",
   "outputs": [
    {
     "data": {
      "text/plain": [
       "<4x9 sparse matrix of type '<class 'numpy.float64'>'\n",
       "\twith 19 stored elements in Compressed Sparse Row format>"
      ]
     },
     "execution_count": 7,
     "metadata": {},
     "output_type": "execute_result"
    }
   ],
   "execution_count": 7
  },
  {
   "metadata": {
    "ExecuteTime": {
     "end_time": "2024-12-27T15:29:20.721239Z",
     "start_time": "2024-12-27T15:29:20.715083Z"
    }
   },
   "cell_type": "code",
   "source": "X.toarray()",
   "id": "e5c49e9c6a6cb782",
   "outputs": [
    {
     "data": {
      "text/plain": [
       "array([[0.        , 0.43877674, 0.54197657, 0.43877674, 0.        ,\n",
       "        0.        , 0.35872874, 0.        , 0.43877674],\n",
       "       [0.        , 0.27230147, 0.        , 0.27230147, 0.        ,\n",
       "        0.85322574, 0.22262429, 0.        , 0.27230147],\n",
       "       [0.55280532, 0.        , 0.        , 0.        , 0.55280532,\n",
       "        0.        , 0.28847675, 0.55280532, 0.        ],\n",
       "       [0.        , 0.43877674, 0.54197657, 0.43877674, 0.        ,\n",
       "        0.        , 0.35872874, 0.        , 0.43877674]])"
      ]
     },
     "execution_count": 8,
     "metadata": {},
     "output_type": "execute_result"
    }
   ],
   "execution_count": 8
  },
  {
   "metadata": {
    "ExecuteTime": {
     "end_time": "2024-12-27T15:29:43.718044Z",
     "start_time": "2024-12-27T15:29:43.714130Z"
    }
   },
   "cell_type": "code",
   "source": "corpus",
   "id": "ca0a16edb4e8c72b",
   "outputs": [
    {
     "data": {
      "text/plain": [
       "['This is the first document.',\n",
       " 'This is the second second document.',\n",
       " 'And the third one.',\n",
       " 'Is this the first document?']"
      ]
     },
     "execution_count": 9,
     "metadata": {},
     "output_type": "execute_result"
    }
   ],
   "execution_count": 9
  },
  {
   "metadata": {
    "ExecuteTime": {
     "end_time": "2024-12-27T15:30:05.434539Z",
     "start_time": "2024-12-27T15:30:05.430290Z"
    }
   },
   "cell_type": "code",
   "source": "vectorizer.get_feature_names_out()",
   "id": "64e6905dea9a84ff",
   "outputs": [
    {
     "data": {
      "text/plain": [
       "array(['and', 'document', 'first', 'is', 'one', 'second', 'the', 'third',\n",
       "       'this'], dtype=object)"
      ]
     },
     "execution_count": 10,
     "metadata": {},
     "output_type": "execute_result"
    }
   ],
   "execution_count": 10
  },
  {
   "metadata": {},
   "cell_type": "markdown",
   "source": "## Get Feature Names and Lookup Columns",
   "id": "f666266ad363ef42"
  },
  {
   "metadata": {
    "ExecuteTime": {
     "end_time": "2024-12-27T16:04:51.697698Z",
     "start_time": "2024-12-27T16:04:51.692726Z"
    }
   },
   "cell_type": "code",
   "source": [
    "# get feature names\n",
    "feature_names = vectorizer.get_feature_names_out()\n",
    "feature_names"
   ],
   "id": "77131bdc5bf22764",
   "outputs": [
    {
     "data": {
      "text/plain": [
       "array(['and', 'document', 'first', 'is', 'one', 'second', 'the', 'third',\n",
       "       'this'], dtype=object)"
      ]
     },
     "execution_count": 12,
     "metadata": {},
     "output_type": "execute_result"
    }
   ],
   "execution_count": 12
  },
  {
   "metadata": {
    "ExecuteTime": {
     "end_time": "2024-12-27T16:11:27.535724Z",
     "start_time": "2024-12-27T16:11:27.531307Z"
    }
   },
   "cell_type": "code",
   "source": [
    "# find the index of a specific word\n",
    "word = \"second\"\n",
    "col_index = list(feature_names).index(word)\n",
    "col_index"
   ],
   "id": "2f977719667036ef",
   "outputs": [
    {
     "data": {
      "text/plain": [
       "5"
      ]
     },
     "execution_count": 14,
     "metadata": {},
     "output_type": "execute_result"
    }
   ],
   "execution_count": 14
  },
  {
   "metadata": {
    "ExecuteTime": {
     "end_time": "2024-12-27T16:14:15.376111Z",
     "start_time": "2024-12-27T16:14:15.357602Z"
    }
   },
   "cell_type": "code",
   "source": [
    "# access the value\n",
    "X[1, col_index]"
   ],
   "id": "7ccce6d1b5a416ca",
   "outputs": [
    {
     "data": {
      "text/plain": [
       "0.8532257361452784"
      ]
     },
     "execution_count": 15,
     "metadata": {},
     "output_type": "execute_result"
    }
   ],
   "execution_count": 15
  },
  {
   "metadata": {
    "ExecuteTime": {
     "end_time": "2024-12-27T16:14:57.801091Z",
     "start_time": "2024-12-27T16:14:57.789274Z"
    }
   },
   "cell_type": "code",
   "source": "X.get_feature_names_out()",
   "id": "b1efbe1b0a8be264",
   "outputs": [
    {
     "ename": "AttributeError",
     "evalue": "'csr_matrix' object has no attribute 'get_feature_names_out'",
     "output_type": "error",
     "traceback": [
      "\u001B[0;31m---------------------------------------------------------------------------\u001B[0m",
      "\u001B[0;31mAttributeError\u001B[0m                            Traceback (most recent call last)",
      "Cell \u001B[0;32mIn[17], line 1\u001B[0m\n\u001B[0;32m----> 1\u001B[0m X\u001B[38;5;241m.\u001B[39mget_feature_names_out()\n",
      "\u001B[0;31mAttributeError\u001B[0m: 'csr_matrix' object has no attribute 'get_feature_names_out'"
     ]
    }
   ],
   "execution_count": 17
  },
  {
   "metadata": {
    "ExecuteTime": {
     "end_time": "2024-12-27T16:41:02.193117Z",
     "start_time": "2024-12-27T16:41:02.187390Z"
    }
   },
   "cell_type": "code",
   "source": "X.getrow(1).toarray()",
   "id": "355b9c08a1b73a3d",
   "outputs": [
    {
     "data": {
      "text/plain": [
       "array([[0.        , 0.27230147, 0.        , 0.27230147, 0.        ,\n",
       "        0.85322574, 0.22262429, 0.        , 0.27230147]])"
      ]
     },
     "execution_count": 22,
     "metadata": {},
     "output_type": "execute_result"
    }
   ],
   "execution_count": 22
  },
  {
   "metadata": {
    "ExecuteTime": {
     "end_time": "2024-12-27T16:40:11.647514Z",
     "start_time": "2024-12-27T16:40:11.642264Z"
    }
   },
   "cell_type": "code",
   "source": "X[0, 1]",
   "id": "919c2633f0d85097",
   "outputs": [
    {
     "data": {
      "text/plain": [
       "0.4387767428592343"
      ]
     },
     "execution_count": 20,
     "metadata": {},
     "output_type": "execute_result"
    }
   ],
   "execution_count": 20
  },
  {
   "metadata": {},
   "cell_type": "markdown",
   "source": [
    "In scikit-learn’s **CountVectorizer**, you can easily retrieve:\n",
    "\n",
    "1. The mapping from token to index (often called a “vocabulary”).\n",
    "2. The mapping from index back to token (“reverse vocabulary” or index-to-word mapping).\n",
    "\n",
    "Below is a quick example:"
   ],
   "id": "2070aa49bfa8db13"
  },
  {
   "metadata": {
    "ExecuteTime": {
     "end_time": "2024-12-30T15:32:07.220145Z",
     "start_time": "2024-12-30T15:32:06.106616Z"
    }
   },
   "cell_type": "code",
   "source": [
    "from sklearn.feature_extraction.text import CountVectorizer\n",
    "\n",
    "corpus = [\n",
    "    \"This is the first document.\",\n",
    "    \"This document is the second document.\",\n",
    "    \"And this is the third one.\"\n",
    "]\n",
    "\n",
    "vectorizer = CountVectorizer()\n",
    "X = vectorizer.fit_transform(corpus)\n",
    "\n",
    "# 1. Word to index\n",
    "word_to_index = vectorizer.vocabulary_\n",
    "print(\"Word to index mapping:\")\n",
    "print(word_to_index)\n",
    "\n",
    "# 2. Index to word\n",
    "index_to_word = {index: word for word, index in word_to_index.items()}\n",
    "print(\"\\nIndex to word mapping:\")\n",
    "print(index_to_word)\n"
   ],
   "id": "8b7d2cd5aa82c9d8",
   "outputs": [
    {
     "name": "stdout",
     "output_type": "stream",
     "text": [
      "Word to index mapping:\n",
      "{'this': 8, 'is': 3, 'the': 6, 'first': 2, 'document': 1, 'second': 5, 'and': 0, 'third': 7, 'one': 4}\n",
      "\n",
      "Index to word mapping:\n",
      "{8: 'this', 3: 'is', 6: 'the', 2: 'first', 1: 'document', 5: 'second', 0: 'and', 7: 'third', 4: 'one'}\n"
     ]
    }
   ],
   "execution_count": 1
  }
 ],
 "metadata": {
  "kernelspec": {
   "display_name": "Python 3",
   "language": "python",
   "name": "python3"
  },
  "language_info": {
   "codemirror_mode": {
    "name": "ipython",
    "version": 2
   },
   "file_extension": ".py",
   "mimetype": "text/x-python",
   "name": "python",
   "nbconvert_exporter": "python",
   "pygments_lexer": "ipython2",
   "version": "2.7.6"
  }
 },
 "nbformat": 4,
 "nbformat_minor": 5
}
