{
 "cells": [
  {
   "metadata": {},
   "cell_type": "markdown",
   "source": "# Introduction",
   "id": "f2623890b9b72b02"
  },
  {
   "metadata": {},
   "cell_type": "markdown",
   "source": [
    "- **Stemming** is very **crude** - it just chops off the end of the word. The result is not necessarily a real word\n",
    "\n",
    "- **Lammatization** is more sophisticated, uses actual rules of language. The true root will be returned"
   ],
   "id": "7c24b8fcb3770016"
  },
  {
   "metadata": {
    "collapsed": true,
    "ExecuteTime": {
     "end_time": "2024-04-24T09:44:46.190551Z",
     "start_time": "2024-04-24T09:44:45.433897Z"
    }
   },
   "cell_type": "code",
   "outputs": [],
   "execution_count": 1,
   "source": "import nltk",
   "id": "initial_id"
  },
  {
   "metadata": {},
   "cell_type": "markdown",
   "source": "# PorterStemmer",
   "id": "237c06e98ee61389"
  },
  {
   "metadata": {
    "ExecuteTime": {
     "end_time": "2024-12-10T17:12:24.578706Z",
     "start_time": "2024-12-10T17:12:23.037786Z"
    }
   },
   "cell_type": "code",
   "source": "from nltk.stem import PorterStemmer",
   "id": "bb80119a8efe6734",
   "outputs": [],
   "execution_count": 1
  },
  {
   "metadata": {
    "ExecuteTime": {
     "end_time": "2024-12-10T17:12:28.531436Z",
     "start_time": "2024-12-10T17:12:28.527046Z"
    }
   },
   "cell_type": "code",
   "source": "porter = PorterStemmer()",
   "id": "3da662b73275d65",
   "outputs": [],
   "execution_count": 2
  },
  {
   "metadata": {
    "ExecuteTime": {
     "end_time": "2024-12-10T17:12:33.369221Z",
     "start_time": "2024-12-10T17:12:33.361467Z"
    }
   },
   "cell_type": "code",
   "source": "porter.stem('walking')",
   "id": "9a90ceb5e5340ca7",
   "outputs": [
    {
     "data": {
      "text/plain": [
       "'walk'"
      ]
     },
     "execution_count": 3,
     "metadata": {},
     "output_type": "execute_result"
    }
   ],
   "execution_count": 3
  },
  {
   "metadata": {
    "ExecuteTime": {
     "end_time": "2024-12-10T17:12:36.598135Z",
     "start_time": "2024-12-10T17:12:36.590549Z"
    }
   },
   "cell_type": "code",
   "source": "porter.stem('walked')",
   "id": "642178b097dcb6a4",
   "outputs": [
    {
     "data": {
      "text/plain": [
       "'walk'"
      ]
     },
     "execution_count": 4,
     "metadata": {},
     "output_type": "execute_result"
    }
   ],
   "execution_count": 4
  },
  {
   "metadata": {
    "ExecuteTime": {
     "end_time": "2024-12-10T17:12:40.085151Z",
     "start_time": "2024-12-10T17:12:40.079671Z"
    }
   },
   "cell_type": "code",
   "source": "porter.stem('walks')",
   "id": "af2b6f7fb548211e",
   "outputs": [
    {
     "data": {
      "text/plain": [
       "'walk'"
      ]
     },
     "execution_count": 5,
     "metadata": {},
     "output_type": "execute_result"
    }
   ],
   "execution_count": 5
  },
  {
   "metadata": {
    "ExecuteTime": {
     "end_time": "2024-12-10T17:12:51.464944Z",
     "start_time": "2024-12-10T17:12:51.457353Z"
    }
   },
   "cell_type": "code",
   "source": "porter.stem('ran')",
   "id": "876d95c2a2704882",
   "outputs": [
    {
     "data": {
      "text/plain": [
       "'ran'"
      ]
     },
     "execution_count": 6,
     "metadata": {},
     "output_type": "execute_result"
    }
   ],
   "execution_count": 6
  },
  {
   "metadata": {
    "ExecuteTime": {
     "end_time": "2024-12-10T17:12:54.327126Z",
     "start_time": "2024-12-10T17:12:54.319776Z"
    }
   },
   "cell_type": "code",
   "source": "porter.stem('running')",
   "id": "2dc936b7e016f285",
   "outputs": [
    {
     "data": {
      "text/plain": [
       "'run'"
      ]
     },
     "execution_count": 7,
     "metadata": {},
     "output_type": "execute_result"
    }
   ],
   "execution_count": 7
  },
  {
   "metadata": {
    "ExecuteTime": {
     "end_time": "2024-12-10T17:13:02.489319Z",
     "start_time": "2024-12-10T17:13:02.481606Z"
    }
   },
   "cell_type": "code",
   "source": "porter.stem('bosses')",
   "id": "427310017006cc2d",
   "outputs": [
    {
     "data": {
      "text/plain": [
       "'boss'"
      ]
     },
     "execution_count": 8,
     "metadata": {},
     "output_type": "execute_result"
    }
   ],
   "execution_count": 8
  },
  {
   "metadata": {
    "ExecuteTime": {
     "end_time": "2024-12-10T17:13:05.161300Z",
     "start_time": "2024-12-10T17:13:05.154764Z"
    }
   },
   "cell_type": "code",
   "source": "porter.stem('replacement')",
   "id": "741808363d563e5b",
   "outputs": [
    {
     "data": {
      "text/plain": [
       "'replac'"
      ]
     },
     "execution_count": 9,
     "metadata": {},
     "output_type": "execute_result"
    }
   ],
   "execution_count": 9
  },
  {
   "metadata": {
    "ExecuteTime": {
     "end_time": "2024-04-24T09:49:06.504227Z",
     "start_time": "2024-04-24T09:49:06.500151Z"
    }
   },
   "cell_type": "code",
   "source": [
    "sentence = \"Lemmatization is more sophisticated than stemming\".split()\n",
    "sentence"
   ],
   "id": "a863967a1ca775ad",
   "outputs": [
    {
     "data": {
      "text/plain": [
       "['Lemmatization', 'is', 'more', 'sophisticated', 'than', 'stemming']"
      ]
     },
     "execution_count": 11,
     "metadata": {},
     "output_type": "execute_result"
    }
   ],
   "execution_count": 11
  },
  {
   "metadata": {
    "ExecuteTime": {
     "end_time": "2024-04-24T09:50:43.718955Z",
     "start_time": "2024-04-24T09:50:43.716240Z"
    }
   },
   "cell_type": "code",
   "source": [
    "for token in sentence:\n",
    "    print(porter.stem(token), end=' ')"
   ],
   "id": "ddab06773adfbb01",
   "outputs": [
    {
     "name": "stdout",
     "output_type": "stream",
     "text": [
      "lemmat is more sophist than stem "
     ]
    }
   ],
   "execution_count": 12
  },
  {
   "metadata": {
    "ExecuteTime": {
     "end_time": "2024-04-24T09:53:00.422742Z",
     "start_time": "2024-04-24T09:53:00.418145Z"
    }
   },
   "cell_type": "code",
   "source": [
    "# interesting behaviour\n",
    "porter.stem('unnecessary')"
   ],
   "id": "bc242aa3a62a7d7c",
   "outputs": [
    {
     "data": {
      "text/plain": [
       "'unnecessari'"
      ]
     },
     "execution_count": 13,
     "metadata": {},
     "output_type": "execute_result"
    }
   ],
   "execution_count": 13
  },
  {
   "metadata": {
    "ExecuteTime": {
     "end_time": "2024-04-24T09:57:30.835880Z",
     "start_time": "2024-04-24T09:57:30.832348Z"
    }
   },
   "cell_type": "code",
   "source": "porter.stem('berry')",
   "id": "b69f544c955018bf",
   "outputs": [
    {
     "data": {
      "text/plain": [
       "'berri'"
      ]
     },
     "execution_count": 14,
     "metadata": {},
     "output_type": "execute_result"
    }
   ],
   "execution_count": 14
  },
  {
   "metadata": {},
   "cell_type": "markdown",
   "source": "# WordNetLemmatizer",
   "id": "74a99274e6532daf"
  },
  {
   "metadata": {
    "ExecuteTime": {
     "end_time": "2024-12-10T17:15:26.055178Z",
     "start_time": "2024-12-10T17:15:26.050697Z"
    }
   },
   "cell_type": "code",
   "source": "from nltk.stem import WordNetLemmatizer",
   "id": "996b712a9c09e824",
   "outputs": [],
   "execution_count": 12
  },
  {
   "metadata": {
    "ExecuteTime": {
     "end_time": "2024-04-24T10:00:12.059477Z",
     "start_time": "2024-04-24T10:00:10.143063Z"
    }
   },
   "cell_type": "code",
   "source": "nltk.download('wordnet')",
   "id": "ce070f4895b4bcc0",
   "outputs": [
    {
     "name": "stderr",
     "output_type": "stream",
     "text": [
      "[nltk_data] Downloading package wordnet to /home/tamer/nltk_data...\n"
     ]
    },
    {
     "data": {
      "text/plain": [
       "True"
      ]
     },
     "execution_count": 16,
     "metadata": {},
     "output_type": "execute_result"
    }
   ],
   "execution_count": 16
  },
  {
   "metadata": {
    "ExecuteTime": {
     "end_time": "2024-12-10T17:15:02.203142Z",
     "start_time": "2024-12-10T17:15:02.195612Z"
    }
   },
   "cell_type": "code",
   "source": "from nltk.corpus import wordnet",
   "id": "67ba4bc405a16d90",
   "outputs": [],
   "execution_count": 10
  },
  {
   "metadata": {
    "ExecuteTime": {
     "end_time": "2024-12-10T17:15:35.863454Z",
     "start_time": "2024-12-10T17:15:35.859541Z"
    }
   },
   "cell_type": "code",
   "source": "lemmatizer = WordNetLemmatizer()",
   "id": "56655b10024ab9ef",
   "outputs": [],
   "execution_count": 13
  },
  {
   "metadata": {
    "ExecuteTime": {
     "end_time": "2024-12-10T17:15:45.648917Z",
     "start_time": "2024-12-10T17:15:43.225841Z"
    }
   },
   "cell_type": "code",
   "source": "lemmatizer.lemmatize('walking')",
   "id": "bf8abd22d53fa773",
   "outputs": [
    {
     "data": {
      "text/plain": [
       "'walking'"
      ]
     },
     "execution_count": 14,
     "metadata": {},
     "output_type": "execute_result"
    }
   ],
   "execution_count": 14
  },
  {
   "metadata": {},
   "cell_type": "code",
   "source": "lemmatizer.lemmatize('walking', pos=wordnet.VERB)",
   "id": "4f15fc33963991c0",
   "outputs": [
    {
     "data": {
      "text/plain": [
       "'walk'"
      ]
     },
     "execution_count": 15,
     "metadata": {},
     "output_type": "execute_result"
    }
   ],
   "execution_count": 15
  },
  {
   "metadata": {
    "ExecuteTime": {
     "end_time": "2024-12-10T17:15:57.466825Z",
     "start_time": "2024-12-10T17:15:57.460145Z"
    }
   },
   "cell_type": "code",
   "source": "lemmatizer.lemmatize('going')",
   "id": "55c5606e5f9432e5",
   "outputs": [
    {
     "data": {
      "text/plain": [
       "'going'"
      ]
     },
     "execution_count": 16,
     "metadata": {},
     "output_type": "execute_result"
    }
   ],
   "execution_count": 16
  },
  {
   "metadata": {
    "ExecuteTime": {
     "end_time": "2024-12-10T17:15:59.606402Z",
     "start_time": "2024-12-10T17:15:59.601095Z"
    }
   },
   "cell_type": "code",
   "source": "lemmatizer.lemmatize('going', pos=wordnet.VERB)",
   "id": "d27a39b68a0a6815",
   "outputs": [
    {
     "data": {
      "text/plain": [
       "'go'"
      ]
     },
     "execution_count": 17,
     "metadata": {},
     "output_type": "execute_result"
    }
   ],
   "execution_count": 17
  },
  {
   "metadata": {
    "ExecuteTime": {
     "end_time": "2024-12-10T17:16:05.767733Z",
     "start_time": "2024-12-10T17:16:05.762612Z"
    }
   },
   "cell_type": "code",
   "source": "lemmatizer.lemmatize('ran')",
   "id": "ee92dd0d7d35ae60",
   "outputs": [
    {
     "data": {
      "text/plain": [
       "'ran'"
      ]
     },
     "execution_count": 18,
     "metadata": {},
     "output_type": "execute_result"
    }
   ],
   "execution_count": 18
  },
  {
   "metadata": {
    "ExecuteTime": {
     "end_time": "2024-12-10T17:16:15.594323Z",
     "start_time": "2024-12-10T17:16:15.588962Z"
    }
   },
   "cell_type": "code",
   "source": "lemmatizer.lemmatize('ran', pos=wordnet.VERB)",
   "id": "42f68f073676d60a",
   "outputs": [
    {
     "data": {
      "text/plain": [
       "'run'"
      ]
     },
     "execution_count": 19,
     "metadata": {},
     "output_type": "execute_result"
    }
   ],
   "execution_count": 19
  },
  {
   "metadata": {
    "ExecuteTime": {
     "end_time": "2024-12-10T17:33:02.791514Z",
     "start_time": "2024-12-10T17:33:02.779426Z"
    }
   },
   "cell_type": "code",
   "source": "porter.stem('mice')",
   "id": "e7d381d04a4cd768",
   "outputs": [
    {
     "data": {
      "text/plain": [
       "'mice'"
      ]
     },
     "execution_count": 20,
     "metadata": {},
     "output_type": "execute_result"
    }
   ],
   "execution_count": 20
  },
  {
   "metadata": {
    "ExecuteTime": {
     "end_time": "2024-12-10T17:33:05.721399Z",
     "start_time": "2024-12-10T17:33:05.713296Z"
    }
   },
   "cell_type": "code",
   "source": "lemmatizer.lemmatize('mice')",
   "id": "e9299a247196d3d6",
   "outputs": [
    {
     "data": {
      "text/plain": [
       "'mouse'"
      ]
     },
     "execution_count": 21,
     "metadata": {},
     "output_type": "execute_result"
    }
   ],
   "execution_count": 21
  },
  {
   "metadata": {
    "ExecuteTime": {
     "end_time": "2024-12-10T17:33:11.473353Z",
     "start_time": "2024-12-10T17:33:11.466802Z"
    }
   },
   "cell_type": "code",
   "source": " porter.stem('was')",
   "id": "a66b4661e8d8c2de",
   "outputs": [
    {
     "data": {
      "text/plain": [
       "'wa'"
      ]
     },
     "execution_count": 22,
     "metadata": {},
     "output_type": "execute_result"
    }
   ],
   "execution_count": 22
  },
  {
   "metadata": {
    "ExecuteTime": {
     "end_time": "2024-12-10T17:33:16.476572Z",
     "start_time": "2024-12-10T17:33:16.469110Z"
    }
   },
   "cell_type": "code",
   "source": "lemmatizer.lemmatize('was', pos=wordnet.VERB)",
   "id": "85411b8fb67288bf",
   "outputs": [
    {
     "data": {
      "text/plain": [
       "'be'"
      ]
     },
     "execution_count": 23,
     "metadata": {},
     "output_type": "execute_result"
    }
   ],
   "execution_count": 23
  },
  {
   "metadata": {
    "ExecuteTime": {
     "end_time": "2024-12-10T17:33:21.933130Z",
     "start_time": "2024-12-10T17:33:21.927479Z"
    }
   },
   "cell_type": "code",
   "source": "porter.stem('is')",
   "id": "a279b63e97be4a5b",
   "outputs": [
    {
     "data": {
      "text/plain": [
       "'is'"
      ]
     },
     "execution_count": 24,
     "metadata": {},
     "output_type": "execute_result"
    }
   ],
   "execution_count": 24
  },
  {
   "metadata": {
    "ExecuteTime": {
     "end_time": "2024-12-10T17:33:24.630968Z",
     "start_time": "2024-12-10T17:33:24.625488Z"
    }
   },
   "cell_type": "code",
   "source": "lemmatizer.lemmatize('is', pos=wordnet.VERB)",
   "id": "6ffc8401fcc4de07",
   "outputs": [
    {
     "data": {
      "text/plain": [
       "'be'"
      ]
     },
     "execution_count": 25,
     "metadata": {},
     "output_type": "execute_result"
    }
   ],
   "execution_count": 25
  },
  {
   "metadata": {
    "ExecuteTime": {
     "end_time": "2024-12-10T17:33:27.861005Z",
     "start_time": "2024-12-10T17:33:27.854404Z"
    }
   },
   "cell_type": "code",
   "source": "porter.stem('better')",
   "id": "c25a536b5699f2cd",
   "outputs": [
    {
     "data": {
      "text/plain": [
       "'better'"
      ]
     },
     "execution_count": 26,
     "metadata": {},
     "output_type": "execute_result"
    }
   ],
   "execution_count": 26
  },
  {
   "metadata": {
    "ExecuteTime": {
     "end_time": "2024-12-10T17:33:31.482267Z",
     "start_time": "2024-12-10T17:33:31.475678Z"
    }
   },
   "cell_type": "code",
   "source": "lemmatizer.lemmatize('better', pos=wordnet.VERB)",
   "id": "16b58cf88acaef67",
   "outputs": [
    {
     "data": {
      "text/plain": [
       "'better'"
      ]
     },
     "execution_count": 27,
     "metadata": {},
     "output_type": "execute_result"
    }
   ],
   "execution_count": 27
  },
  {
   "metadata": {
    "ExecuteTime": {
     "end_time": "2024-12-10T17:33:34.247719Z",
     "start_time": "2024-12-10T17:33:34.241804Z"
    }
   },
   "cell_type": "code",
   "source": "lemmatizer.lemmatize('better', pos=wordnet.ADJ)",
   "id": "4eb7c6ed240760c2",
   "outputs": [
    {
     "data": {
      "text/plain": [
       "'good'"
      ]
     },
     "execution_count": 28,
     "metadata": {},
     "output_type": "execute_result"
    }
   ],
   "execution_count": 28
  },
  {
   "metadata": {},
   "cell_type": "markdown",
   "source": "# Tagging",
   "id": "577c08014fc7d7bc"
  },
  {
   "metadata": {
    "ExecuteTime": {
     "end_time": "2024-04-24T13:30:08.284551Z",
     "start_time": "2024-04-24T13:30:08.280589Z"
    }
   },
   "cell_type": "code",
   "source": [
    "def get_wordnet_pos(treebank_tag):\n",
    "    if treebank_tag.startswith('J'):\n",
    "        return wordnet.ADJ\n",
    "    elif treebank_tag.startswith('V'):\n",
    "        return wordnet.VERB\n",
    "    elif treebank_tag.startswith('N'):\n",
    "        return wordnet.NOUN\n",
    "    elif treebank_tag.startswith('R'):\n",
    "        return wordnet.ADV\n",
    "    else:\n",
    "        return wordnet.NOUN"
   ],
   "id": "e025c6bcfa781401",
   "outputs": [],
   "execution_count": 37
  },
  {
   "metadata": {
    "ExecuteTime": {
     "end_time": "2024-04-24T13:30:49.639010Z",
     "start_time": "2024-04-24T13:30:49.127190Z"
    }
   },
   "cell_type": "code",
   "source": "nltk.download('averaged_perceptron_tagger')",
   "id": "121a92ba14a5da72",
   "outputs": [
    {
     "name": "stderr",
     "output_type": "stream",
     "text": [
      "[nltk_data] Downloading package averaged_perceptron_tagger to\n",
      "[nltk_data]     /home/tamer/nltk_data...\n",
      "[nltk_data]   Unzipping taggers/averaged_perceptron_tagger.zip.\n"
     ]
    },
    {
     "data": {
      "text/plain": [
       "True"
      ]
     },
     "execution_count": 38,
     "metadata": {},
     "output_type": "execute_result"
    }
   ],
   "execution_count": 38
  },
  {
   "metadata": {
    "ExecuteTime": {
     "end_time": "2024-04-24T13:31:28.194126Z",
     "start_time": "2024-04-24T13:31:28.190890Z"
    }
   },
   "cell_type": "code",
   "source": "sentence = \"Donald Trump has a devoted following\".split()",
   "id": "bbba2e27eb41b271",
   "outputs": [],
   "execution_count": 39
  },
  {
   "metadata": {
    "ExecuteTime": {
     "end_time": "2024-04-24T15:09:51.733773Z",
     "start_time": "2024-04-24T15:09:51.726496Z"
    }
   },
   "cell_type": "code",
   "source": [
    "for token in sentence:\n",
    "    print(porter.stem(token), end=' ')"
   ],
   "id": "171926851c7a9941",
   "outputs": [
    {
     "name": "stdout",
     "output_type": "stream",
     "text": [
      "donald trump ha a devot follow "
     ]
    }
   ],
   "execution_count": 42
  },
  {
   "metadata": {
    "ExecuteTime": {
     "end_time": "2024-04-24T13:35:36.805805Z",
     "start_time": "2024-04-24T13:35:36.639151Z"
    }
   },
   "cell_type": "code",
   "source": [
    "words_and_tags = nltk.pos_tag(sentence)\n",
    "words_and_tags"
   ],
   "id": "25104325c4c8c581",
   "outputs": [
    {
     "data": {
      "text/plain": [
       "[('Donald', 'NNP'),\n",
       " ('Trump', 'NNP'),\n",
       " ('has', 'VBZ'),\n",
       " ('a', 'DT'),\n",
       " ('devoted', 'VBN'),\n",
       " ('following', 'NN')]"
      ]
     },
     "execution_count": 40,
     "metadata": {},
     "output_type": "execute_result"
    }
   ],
   "execution_count": 40
  },
  {
   "metadata": {
    "ExecuteTime": {
     "end_time": "2024-04-24T15:05:43.270274Z",
     "start_time": "2024-04-24T15:05:43.238388Z"
    }
   },
   "cell_type": "code",
   "source": [
    "for word, tag in words_and_tags:\n",
    "    lemma = lemmatizer.lemmatize(word, get_wordnet_pos(tag))\n",
    "    print(lemma, end=' ')"
   ],
   "id": "e13644462b975aa2",
   "outputs": [
    {
     "name": "stdout",
     "output_type": "stream",
     "text": [
      "Donald Trump have a devote following "
     ]
    }
   ],
   "execution_count": 41
  },
  {
   "metadata": {
    "ExecuteTime": {
     "end_time": "2024-04-24T15:13:52.931445Z",
     "start_time": "2024-04-24T15:13:52.927499Z"
    }
   },
   "cell_type": "code",
   "source": "sentence = 'The cat was following the bird as it flew by'.split()",
   "id": "c9d083be02dd8268",
   "outputs": [],
   "execution_count": 43
  },
  {
   "metadata": {
    "ExecuteTime": {
     "end_time": "2024-04-24T15:14:24.721110Z",
     "start_time": "2024-04-24T15:14:24.689852Z"
    }
   },
   "cell_type": "code",
   "source": [
    "words_and_tags = nltk.pos_tag(sentence)\n",
    "words_and_tags"
   ],
   "id": "7d387c841944507c",
   "outputs": [
    {
     "data": {
      "text/plain": [
       "[('The', 'DT'),\n",
       " ('cat', 'NN'),\n",
       " ('was', 'VBD'),\n",
       " ('following', 'VBG'),\n",
       " ('the', 'DT'),\n",
       " ('bird', 'NN'),\n",
       " ('as', 'IN'),\n",
       " ('it', 'PRP'),\n",
       " ('flew', 'VBD'),\n",
       " ('by', 'IN')]"
      ]
     },
     "execution_count": 44,
     "metadata": {},
     "output_type": "execute_result"
    }
   ],
   "execution_count": 44
  },
  {
   "metadata": {
    "ExecuteTime": {
     "end_time": "2024-04-24T15:16:15.424028Z",
     "start_time": "2024-04-24T15:16:15.417652Z"
    }
   },
   "cell_type": "code",
   "source": [
    "for word, tag in words_and_tags:\n",
    "    lemma = lemmatizer.lemmatize(word, pos=get_wordnet_pos(tag))\n",
    "    print(lemma, end=' ')"
   ],
   "id": "7c487043b75523bb",
   "outputs": [
    {
     "name": "stdout",
     "output_type": "stream",
     "text": [
      "The cat be follow the bird a it fly by "
     ]
    }
   ],
   "execution_count": 45
  },
  {
   "metadata": {},
   "cell_type": "code",
   "outputs": [],
   "execution_count": null,
   "source": "",
   "id": "840ccff2536ae3e3"
  }
 ],
 "metadata": {
  "kernelspec": {
   "display_name": "Python 3",
   "language": "python",
   "name": "python3"
  },
  "language_info": {
   "codemirror_mode": {
    "name": "ipython",
    "version": 2
   },
   "file_extension": ".py",
   "mimetype": "text/x-python",
   "name": "python",
   "nbconvert_exporter": "python",
   "pygments_lexer": "ipython2",
   "version": "2.7.6"
  }
 },
 "nbformat": 4,
 "nbformat_minor": 5
}
